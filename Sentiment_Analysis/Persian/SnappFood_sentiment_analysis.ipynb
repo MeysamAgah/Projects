{
  "nbformat": 4,
  "nbformat_minor": 0,
  "metadata": {
    "colab": {
      "provenance": []
    },
    "kernelspec": {
      "name": "python3",
      "display_name": "Python 3"
    },
    "language_info": {
      "name": "python"
    }
  },
  "cells": [
    {
      "cell_type": "markdown",
      "source": [
        "## Installing prerequisites"
      ],
      "metadata": {
        "id": "7fSJM8wydmXT"
      }
    },
    {
      "cell_type": "code",
      "source": [
        "!pip install patool\n",
        "!pip install DadmaTools\n",
        "!pip install hazm"
      ],
      "metadata": {
        "id": "-QJjMnJDdE7w",
        "collapsed": true
      },
      "execution_count": null,
      "outputs": []
    },
    {
      "cell_type": "code",
      "source": [
        "import patoolib\n",
        "import os\n",
        "import pandas as pd\n",
        "import dadmatools\n",
        "from dadmatools.normalizer import Normalizer\n",
        "from hazm import Lemmatizer\n",
        "from hazm import Normalizer as NOrmalizer\n",
        "import re\n",
        "from sklearn.model_selection import train_test_split\n",
        "from sklearn.feature_extraction.text import CountVectorizer\n",
        "from sklearn.linear_model import LogisticRegression\n",
        "from sklearn.naive_bayes import GaussianNB\n",
        "from sklearn.metrics import accuracy_score,classification_report, confusion_matrix"
      ],
      "metadata": {
        "id": "BsFk3dVDd7wZ"
      },
      "execution_count": 2,
      "outputs": []
    },
    {
      "cell_type": "code",
      "source": [
        "!wget https://drive.usercontent.google.com/download?id=15J4zPN1BD7Q_ZIQ39VeFquwSoW8qTxgu&export=download&authuser=0"
      ],
      "metadata": {
        "id": "v75JqUKpMtYn",
        "colab": {
          "base_uri": "https://localhost:8080/"
        },
        "outputId": "7180918d-4104-4910-dffe-f283b981c7f1"
      },
      "execution_count": 3,
      "outputs": [
        {
          "output_type": "stream",
          "name": "stdout",
          "text": [
            "--2024-09-17 17:55:56--  https://drive.usercontent.google.com/download?id=15J4zPN1BD7Q_ZIQ39VeFquwSoW8qTxgu\n",
            "Resolving drive.usercontent.google.com (drive.usercontent.google.com)... 108.177.127.132, 2a00:1450:4013:c07::84\n",
            "Connecting to drive.usercontent.google.com (drive.usercontent.google.com)|108.177.127.132|:443... connected.\n",
            "HTTP request sent, awaiting response... 200 OK\n",
            "Length: 3261257 (3.1M) [application/octet-stream]\n",
            "Saving to: ‘download?id=15J4zPN1BD7Q_ZIQ39VeFquwSoW8qTxgu’\n",
            "\n",
            "download?id=15J4zPN 100%[===================>]   3.11M  --.-KB/s    in 0.02s   \n",
            "\n",
            "2024-09-17 17:56:00 (191 MB/s) - ‘download?id=15J4zPN1BD7Q_ZIQ39VeFquwSoW8qTxgu’ saved [3261257/3261257]\n",
            "\n"
          ]
        }
      ]
    },
    {
      "cell_type": "code",
      "source": [
        "os.rename('download?id=15J4zPN1BD7Q_ZIQ39VeFquwSoW8qTxgu', 'snappfood.zip')"
      ],
      "metadata": {
        "id": "ri_w6svcMtci"
      },
      "execution_count": 4,
      "outputs": []
    },
    {
      "cell_type": "code",
      "source": [
        "patoolib.extract_archive(\"/content/snappfood.zip\",outdir=\"/content\")"
      ],
      "metadata": {
        "id": "n-xdpCrXM1Q-",
        "colab": {
          "base_uri": "https://localhost:8080/",
          "height": 174
        },
        "outputId": "88c41145-582b-439c-8b20-8fa90e97e2b7"
      },
      "execution_count": 5,
      "outputs": [
        {
          "output_type": "stream",
          "name": "stderr",
          "text": [
            "INFO patool: Extracting /content/snappfood.zip ...\n",
            "INFO:patool:Extracting /content/snappfood.zip ...\n",
            "INFO patool: running /usr/bin/7z x -o/content -- /content/snappfood.zip\n",
            "INFO:patool:running /usr/bin/7z x -o/content -- /content/snappfood.zip\n",
            "INFO patool:     with input=''\n",
            "INFO:patool:    with input=''\n",
            "INFO patool: ... /content/snappfood.zip extracted to `/content'.\n",
            "INFO:patool:... /content/snappfood.zip extracted to `/content'.\n"
          ]
        },
        {
          "output_type": "execute_result",
          "data": {
            "text/plain": [
              "'/content'"
            ],
            "application/vnd.google.colaboratory.intrinsic+json": {
              "type": "string"
            }
          },
          "metadata": {},
          "execution_count": 5
        }
      ]
    },
    {
      "cell_type": "code",
      "source": [
        "!wget https://drive.usercontent.google.com/download?id=15J4zPN1BD7Q_ZIQ39VeFquwSoW8qTxgu&export=download&authuser=0\n",
        "os.rename('download?id=15J4zPN1BD7Q_ZIQ39VeFquwSoW8qTxgu', 'snappfood.zip')\n",
        "patoolib.extract_archive(\"/content/snappfood.zip\",outdir=\"/content\")"
      ],
      "metadata": {
        "id": "lol8jnh0d_Qq"
      },
      "execution_count": null,
      "outputs": []
    },
    {
      "cell_type": "markdown",
      "source": [
        "## Preprocessing"
      ],
      "metadata": {
        "id": "WJyI7SNddw78"
      }
    },
    {
      "cell_type": "code",
      "source": [
        "df = pd.read_csv('/content/snappfood/train.csv', delimiter='\\t')\n",
        "df.head()"
      ],
      "metadata": {
        "id": "n9ks7C-xdxG9",
        "colab": {
          "base_uri": "https://localhost:8080/",
          "height": 206
        },
        "outputId": "d59b1677-fe85-4785-cb67-8aecff6281d3"
      },
      "execution_count": 7,
      "outputs": [
        {
          "output_type": "execute_result",
          "data": {
            "text/plain": [
              "   Unnamed: 0                                            comment  label  \\\n",
              "0           0    واقعا حیف وقت که بنویسم سرویس دهیتون شده افتضاح    SAD   \n",
              "1           1  قرار بود ۱ ساعته برسه ولی نیم ساعت زودتر از مو...  HAPPY   \n",
              "2           2  قیمت این مدل اصلا با کیفیتش سازگاری نداره، فقط...    SAD   \n",
              "3           3  عالللی بود همه چه درست و به اندازه و کیفیت خوب...  HAPPY   \n",
              "4           4                      شیرینی وانیلی فقط یک مدل بود.  HAPPY   \n",
              "\n",
              "   label_id  \n",
              "0         1  \n",
              "1         0  \n",
              "2         1  \n",
              "3         0  \n",
              "4         0  "
            ],
            "text/html": [
              "\n",
              "  <div id=\"df-cd18ff75-b567-48d9-b068-ac0379862aa2\" class=\"colab-df-container\">\n",
              "    <div>\n",
              "<style scoped>\n",
              "    .dataframe tbody tr th:only-of-type {\n",
              "        vertical-align: middle;\n",
              "    }\n",
              "\n",
              "    .dataframe tbody tr th {\n",
              "        vertical-align: top;\n",
              "    }\n",
              "\n",
              "    .dataframe thead th {\n",
              "        text-align: right;\n",
              "    }\n",
              "</style>\n",
              "<table border=\"1\" class=\"dataframe\">\n",
              "  <thead>\n",
              "    <tr style=\"text-align: right;\">\n",
              "      <th></th>\n",
              "      <th>Unnamed: 0</th>\n",
              "      <th>comment</th>\n",
              "      <th>label</th>\n",
              "      <th>label_id</th>\n",
              "    </tr>\n",
              "  </thead>\n",
              "  <tbody>\n",
              "    <tr>\n",
              "      <th>0</th>\n",
              "      <td>0</td>\n",
              "      <td>واقعا حیف وقت که بنویسم سرویس دهیتون شده افتضاح</td>\n",
              "      <td>SAD</td>\n",
              "      <td>1</td>\n",
              "    </tr>\n",
              "    <tr>\n",
              "      <th>1</th>\n",
              "      <td>1</td>\n",
              "      <td>قرار بود ۱ ساعته برسه ولی نیم ساعت زودتر از مو...</td>\n",
              "      <td>HAPPY</td>\n",
              "      <td>0</td>\n",
              "    </tr>\n",
              "    <tr>\n",
              "      <th>2</th>\n",
              "      <td>2</td>\n",
              "      <td>قیمت این مدل اصلا با کیفیتش سازگاری نداره، فقط...</td>\n",
              "      <td>SAD</td>\n",
              "      <td>1</td>\n",
              "    </tr>\n",
              "    <tr>\n",
              "      <th>3</th>\n",
              "      <td>3</td>\n",
              "      <td>عالللی بود همه چه درست و به اندازه و کیفیت خوب...</td>\n",
              "      <td>HAPPY</td>\n",
              "      <td>0</td>\n",
              "    </tr>\n",
              "    <tr>\n",
              "      <th>4</th>\n",
              "      <td>4</td>\n",
              "      <td>شیرینی وانیلی فقط یک مدل بود.</td>\n",
              "      <td>HAPPY</td>\n",
              "      <td>0</td>\n",
              "    </tr>\n",
              "  </tbody>\n",
              "</table>\n",
              "</div>\n",
              "    <div class=\"colab-df-buttons\">\n",
              "\n",
              "  <div class=\"colab-df-container\">\n",
              "    <button class=\"colab-df-convert\" onclick=\"convertToInteractive('df-cd18ff75-b567-48d9-b068-ac0379862aa2')\"\n",
              "            title=\"Convert this dataframe to an interactive table.\"\n",
              "            style=\"display:none;\">\n",
              "\n",
              "  <svg xmlns=\"http://www.w3.org/2000/svg\" height=\"24px\" viewBox=\"0 -960 960 960\">\n",
              "    <path d=\"M120-120v-720h720v720H120Zm60-500h600v-160H180v160Zm220 220h160v-160H400v160Zm0 220h160v-160H400v160ZM180-400h160v-160H180v160Zm440 0h160v-160H620v160ZM180-180h160v-160H180v160Zm440 0h160v-160H620v160Z\"/>\n",
              "  </svg>\n",
              "    </button>\n",
              "\n",
              "  <style>\n",
              "    .colab-df-container {\n",
              "      display:flex;\n",
              "      gap: 12px;\n",
              "    }\n",
              "\n",
              "    .colab-df-convert {\n",
              "      background-color: #E8F0FE;\n",
              "      border: none;\n",
              "      border-radius: 50%;\n",
              "      cursor: pointer;\n",
              "      display: none;\n",
              "      fill: #1967D2;\n",
              "      height: 32px;\n",
              "      padding: 0 0 0 0;\n",
              "      width: 32px;\n",
              "    }\n",
              "\n",
              "    .colab-df-convert:hover {\n",
              "      background-color: #E2EBFA;\n",
              "      box-shadow: 0px 1px 2px rgba(60, 64, 67, 0.3), 0px 1px 3px 1px rgba(60, 64, 67, 0.15);\n",
              "      fill: #174EA6;\n",
              "    }\n",
              "\n",
              "    .colab-df-buttons div {\n",
              "      margin-bottom: 4px;\n",
              "    }\n",
              "\n",
              "    [theme=dark] .colab-df-convert {\n",
              "      background-color: #3B4455;\n",
              "      fill: #D2E3FC;\n",
              "    }\n",
              "\n",
              "    [theme=dark] .colab-df-convert:hover {\n",
              "      background-color: #434B5C;\n",
              "      box-shadow: 0px 1px 3px 1px rgba(0, 0, 0, 0.15);\n",
              "      filter: drop-shadow(0px 1px 2px rgba(0, 0, 0, 0.3));\n",
              "      fill: #FFFFFF;\n",
              "    }\n",
              "  </style>\n",
              "\n",
              "    <script>\n",
              "      const buttonEl =\n",
              "        document.querySelector('#df-cd18ff75-b567-48d9-b068-ac0379862aa2 button.colab-df-convert');\n",
              "      buttonEl.style.display =\n",
              "        google.colab.kernel.accessAllowed ? 'block' : 'none';\n",
              "\n",
              "      async function convertToInteractive(key) {\n",
              "        const element = document.querySelector('#df-cd18ff75-b567-48d9-b068-ac0379862aa2');\n",
              "        const dataTable =\n",
              "          await google.colab.kernel.invokeFunction('convertToInteractive',\n",
              "                                                    [key], {});\n",
              "        if (!dataTable) return;\n",
              "\n",
              "        const docLinkHtml = 'Like what you see? Visit the ' +\n",
              "          '<a target=\"_blank\" href=https://colab.research.google.com/notebooks/data_table.ipynb>data table notebook</a>'\n",
              "          + ' to learn more about interactive tables.';\n",
              "        element.innerHTML = '';\n",
              "        dataTable['output_type'] = 'display_data';\n",
              "        await google.colab.output.renderOutput(dataTable, element);\n",
              "        const docLink = document.createElement('div');\n",
              "        docLink.innerHTML = docLinkHtml;\n",
              "        element.appendChild(docLink);\n",
              "      }\n",
              "    </script>\n",
              "  </div>\n",
              "\n",
              "\n",
              "<div id=\"df-87b698fb-0cde-425f-b26c-98a18c3c75c9\">\n",
              "  <button class=\"colab-df-quickchart\" onclick=\"quickchart('df-87b698fb-0cde-425f-b26c-98a18c3c75c9')\"\n",
              "            title=\"Suggest charts\"\n",
              "            style=\"display:none;\">\n",
              "\n",
              "<svg xmlns=\"http://www.w3.org/2000/svg\" height=\"24px\"viewBox=\"0 0 24 24\"\n",
              "     width=\"24px\">\n",
              "    <g>\n",
              "        <path d=\"M19 3H5c-1.1 0-2 .9-2 2v14c0 1.1.9 2 2 2h14c1.1 0 2-.9 2-2V5c0-1.1-.9-2-2-2zM9 17H7v-7h2v7zm4 0h-2V7h2v10zm4 0h-2v-4h2v4z\"/>\n",
              "    </g>\n",
              "</svg>\n",
              "  </button>\n",
              "\n",
              "<style>\n",
              "  .colab-df-quickchart {\n",
              "      --bg-color: #E8F0FE;\n",
              "      --fill-color: #1967D2;\n",
              "      --hover-bg-color: #E2EBFA;\n",
              "      --hover-fill-color: #174EA6;\n",
              "      --disabled-fill-color: #AAA;\n",
              "      --disabled-bg-color: #DDD;\n",
              "  }\n",
              "\n",
              "  [theme=dark] .colab-df-quickchart {\n",
              "      --bg-color: #3B4455;\n",
              "      --fill-color: #D2E3FC;\n",
              "      --hover-bg-color: #434B5C;\n",
              "      --hover-fill-color: #FFFFFF;\n",
              "      --disabled-bg-color: #3B4455;\n",
              "      --disabled-fill-color: #666;\n",
              "  }\n",
              "\n",
              "  .colab-df-quickchart {\n",
              "    background-color: var(--bg-color);\n",
              "    border: none;\n",
              "    border-radius: 50%;\n",
              "    cursor: pointer;\n",
              "    display: none;\n",
              "    fill: var(--fill-color);\n",
              "    height: 32px;\n",
              "    padding: 0;\n",
              "    width: 32px;\n",
              "  }\n",
              "\n",
              "  .colab-df-quickchart:hover {\n",
              "    background-color: var(--hover-bg-color);\n",
              "    box-shadow: 0 1px 2px rgba(60, 64, 67, 0.3), 0 1px 3px 1px rgba(60, 64, 67, 0.15);\n",
              "    fill: var(--button-hover-fill-color);\n",
              "  }\n",
              "\n",
              "  .colab-df-quickchart-complete:disabled,\n",
              "  .colab-df-quickchart-complete:disabled:hover {\n",
              "    background-color: var(--disabled-bg-color);\n",
              "    fill: var(--disabled-fill-color);\n",
              "    box-shadow: none;\n",
              "  }\n",
              "\n",
              "  .colab-df-spinner {\n",
              "    border: 2px solid var(--fill-color);\n",
              "    border-color: transparent;\n",
              "    border-bottom-color: var(--fill-color);\n",
              "    animation:\n",
              "      spin 1s steps(1) infinite;\n",
              "  }\n",
              "\n",
              "  @keyframes spin {\n",
              "    0% {\n",
              "      border-color: transparent;\n",
              "      border-bottom-color: var(--fill-color);\n",
              "      border-left-color: var(--fill-color);\n",
              "    }\n",
              "    20% {\n",
              "      border-color: transparent;\n",
              "      border-left-color: var(--fill-color);\n",
              "      border-top-color: var(--fill-color);\n",
              "    }\n",
              "    30% {\n",
              "      border-color: transparent;\n",
              "      border-left-color: var(--fill-color);\n",
              "      border-top-color: var(--fill-color);\n",
              "      border-right-color: var(--fill-color);\n",
              "    }\n",
              "    40% {\n",
              "      border-color: transparent;\n",
              "      border-right-color: var(--fill-color);\n",
              "      border-top-color: var(--fill-color);\n",
              "    }\n",
              "    60% {\n",
              "      border-color: transparent;\n",
              "      border-right-color: var(--fill-color);\n",
              "    }\n",
              "    80% {\n",
              "      border-color: transparent;\n",
              "      border-right-color: var(--fill-color);\n",
              "      border-bottom-color: var(--fill-color);\n",
              "    }\n",
              "    90% {\n",
              "      border-color: transparent;\n",
              "      border-bottom-color: var(--fill-color);\n",
              "    }\n",
              "  }\n",
              "</style>\n",
              "\n",
              "  <script>\n",
              "    async function quickchart(key) {\n",
              "      const quickchartButtonEl =\n",
              "        document.querySelector('#' + key + ' button');\n",
              "      quickchartButtonEl.disabled = true;  // To prevent multiple clicks.\n",
              "      quickchartButtonEl.classList.add('colab-df-spinner');\n",
              "      try {\n",
              "        const charts = await google.colab.kernel.invokeFunction(\n",
              "            'suggestCharts', [key], {});\n",
              "      } catch (error) {\n",
              "        console.error('Error during call to suggestCharts:', error);\n",
              "      }\n",
              "      quickchartButtonEl.classList.remove('colab-df-spinner');\n",
              "      quickchartButtonEl.classList.add('colab-df-quickchart-complete');\n",
              "    }\n",
              "    (() => {\n",
              "      let quickchartButtonEl =\n",
              "        document.querySelector('#df-87b698fb-0cde-425f-b26c-98a18c3c75c9 button');\n",
              "      quickchartButtonEl.style.display =\n",
              "        google.colab.kernel.accessAllowed ? 'block' : 'none';\n",
              "    })();\n",
              "  </script>\n",
              "</div>\n",
              "\n",
              "    </div>\n",
              "  </div>\n"
            ],
            "application/vnd.google.colaboratory.intrinsic+json": {
              "type": "dataframe",
              "variable_name": "df",
              "summary": "{\n  \"name\": \"df\",\n  \"rows\": 56700,\n  \"fields\": [\n    {\n      \"column\": \"Unnamed: 0\",\n      \"properties\": {\n        \"dtype\": \"number\",\n        \"std\": 16368,\n        \"min\": 0,\n        \"max\": 56699,\n        \"num_unique_values\": 56700,\n        \"samples\": [\n          55364,\n          6890,\n          13032\n        ],\n        \"semantic_type\": \"\",\n        \"description\": \"\"\n      }\n    },\n    {\n      \"column\": \"comment\",\n      \"properties\": {\n        \"dtype\": \"string\",\n        \"num_unique_values\": 56700,\n        \"samples\": [\n          \"\\u0627\\u06af\\u0631 \\u0645\\u0645\\u06a9\\u0646\\u0647 \\u062f\\u0631 \\u0641\\u0631\\u0645 \\u0628\\u0633\\u062a\\u0647 \\u0628\\u0646\\u062f\\u06cc \\u062a\\u062c\\u062f\\u06cc\\u062f \\u0646\\u0638\\u0631 \\u06a9\\u0646\\u06cc\\u062f\",\n          \"\\u0628\\u06cc \\u0646\\u0638\\u06cc\\u0631 \\u0628\\u0648\\u062f \\u0641\\u0648\\u0642 \\u0627\\u0644\\u0639\\u0627\\u062f\\u0647 \\u062e\\u0648\\u0634\\u0645\\u0632\\u0647 \\u0628\\u0648\\u062f \\u0647\\u0645\\u0647 \\u0686\\u06cc\\u0634 \\u0639\\u0627\\u0644\\u06cc \\u0628\\u0648\\u062f \\u0647\\u0631 \\u0686\\u06cc \\u0628\\u06af\\u0645 \\u06a9\\u0645\\u0647 \\u062e\\u062f\\u0627 \\u0628\\u0647 \\u06a9\\u0633\\u0628 \\u0648 \\u06a9\\u0627\\u0631\\u0648 \\u0631\\u0648\\u0632\\u06cc\\u062a\\u0648\\u0646 \\u0628\\u0631\\u06a9\\u062a \\u0628\\u062f\\u0647\",\n          \"\\u0645\\u0632\\u0634 \\u062e\\u0648\\u0628\\u0647 \\u062a\\u0627\\u0632\\u0647 \\u0648 \\u062e\\u0648\\u0634\\u0645\\u0632\\u0647 \\u0628\\u0648\\u062f \\u0627\\u0646\\u062f\\u0627\\u0632\\u0634\\u0645 \\u062e\\u0648\\u0628 \\u0628\\u0648\\u062f \\u062a\\u0634\\u06a9\\u0631 \\u0627\\u0632 \\u062f\\u06a9\\u0648\\u0631 \\u0631\\u0648\\u06cc \\u06a9\\u06cc\\u06a9 \\u0628\\u0631\\u0627\\u06cc \\u062a\\u0628\\u0631\\u06cc\\u06a9 \\u06cc\\u0644\\u062f\\u0627 \\u0648 \\u062d\\u0645\\u0644 \\u06a9\\u06cc\\u06a9 \\u0647\\u0645 \\u0639\\u0627\\u0644\\u06cc \\u0628\\u0648\\u062f \\u0628\\u062f\\u0648\\u0646 \\u0645\\u0634\\u06a9\\u0644 \\u0648 \\u067e\\u06cc\\u06a9 \\u0647\\u0645 \\u062e\\u06cc\\u0644\\u06cc \\u0628\\u0627 \\u0627\\u062f\\u0628 \\u0648 \\u0628\\u0627 \\u0634\\u062e\\u0635\\u06cc\\u062a \\u0628\\u0648\\u062f \\u062a\\u0634\\u06a9\\u0631 \\u0627\\u0632 \\u0647\\u0645\\u06af\\u06cc\"\n        ],\n        \"semantic_type\": \"\",\n        \"description\": \"\"\n      }\n    },\n    {\n      \"column\": \"label\",\n      \"properties\": {\n        \"dtype\": \"category\",\n        \"num_unique_values\": 2,\n        \"samples\": [\n          \"HAPPY\",\n          \"SAD\"\n        ],\n        \"semantic_type\": \"\",\n        \"description\": \"\"\n      }\n    },\n    {\n      \"column\": \"label_id\",\n      \"properties\": {\n        \"dtype\": \"number\",\n        \"std\": 0,\n        \"min\": 0,\n        \"max\": 1,\n        \"num_unique_values\": 2,\n        \"samples\": [\n          0,\n          1\n        ],\n        \"semantic_type\": \"\",\n        \"description\": \"\"\n      }\n    }\n  ]\n}"
            }
          },
          "metadata": {},
          "execution_count": 7
        }
      ]
    },
    {
      "cell_type": "code",
      "source": [
        "cols_to_remove = ['Unnamed: 0', 'label']\n",
        "df.drop(cols_to_remove, axis=1, inplace=True)\n",
        "df.head()"
      ],
      "metadata": {
        "id": "oEaUeOPnhH9R",
        "colab": {
          "base_uri": "https://localhost:8080/",
          "height": 206
        },
        "outputId": "5afc67ea-9efe-4094-dac5-776585d8874d"
      },
      "execution_count": 8,
      "outputs": [
        {
          "output_type": "execute_result",
          "data": {
            "text/plain": [
              "                                             comment  label_id\n",
              "0    واقعا حیف وقت که بنویسم سرویس دهیتون شده افتضاح         1\n",
              "1  قرار بود ۱ ساعته برسه ولی نیم ساعت زودتر از مو...         0\n",
              "2  قیمت این مدل اصلا با کیفیتش سازگاری نداره، فقط...         1\n",
              "3  عالللی بود همه چه درست و به اندازه و کیفیت خوب...         0\n",
              "4                      شیرینی وانیلی فقط یک مدل بود.         0"
            ],
            "text/html": [
              "\n",
              "  <div id=\"df-aa021e51-0dc1-446f-8dff-7954398232b9\" class=\"colab-df-container\">\n",
              "    <div>\n",
              "<style scoped>\n",
              "    .dataframe tbody tr th:only-of-type {\n",
              "        vertical-align: middle;\n",
              "    }\n",
              "\n",
              "    .dataframe tbody tr th {\n",
              "        vertical-align: top;\n",
              "    }\n",
              "\n",
              "    .dataframe thead th {\n",
              "        text-align: right;\n",
              "    }\n",
              "</style>\n",
              "<table border=\"1\" class=\"dataframe\">\n",
              "  <thead>\n",
              "    <tr style=\"text-align: right;\">\n",
              "      <th></th>\n",
              "      <th>comment</th>\n",
              "      <th>label_id</th>\n",
              "    </tr>\n",
              "  </thead>\n",
              "  <tbody>\n",
              "    <tr>\n",
              "      <th>0</th>\n",
              "      <td>واقعا حیف وقت که بنویسم سرویس دهیتون شده افتضاح</td>\n",
              "      <td>1</td>\n",
              "    </tr>\n",
              "    <tr>\n",
              "      <th>1</th>\n",
              "      <td>قرار بود ۱ ساعته برسه ولی نیم ساعت زودتر از مو...</td>\n",
              "      <td>0</td>\n",
              "    </tr>\n",
              "    <tr>\n",
              "      <th>2</th>\n",
              "      <td>قیمت این مدل اصلا با کیفیتش سازگاری نداره، فقط...</td>\n",
              "      <td>1</td>\n",
              "    </tr>\n",
              "    <tr>\n",
              "      <th>3</th>\n",
              "      <td>عالللی بود همه چه درست و به اندازه و کیفیت خوب...</td>\n",
              "      <td>0</td>\n",
              "    </tr>\n",
              "    <tr>\n",
              "      <th>4</th>\n",
              "      <td>شیرینی وانیلی فقط یک مدل بود.</td>\n",
              "      <td>0</td>\n",
              "    </tr>\n",
              "  </tbody>\n",
              "</table>\n",
              "</div>\n",
              "    <div class=\"colab-df-buttons\">\n",
              "\n",
              "  <div class=\"colab-df-container\">\n",
              "    <button class=\"colab-df-convert\" onclick=\"convertToInteractive('df-aa021e51-0dc1-446f-8dff-7954398232b9')\"\n",
              "            title=\"Convert this dataframe to an interactive table.\"\n",
              "            style=\"display:none;\">\n",
              "\n",
              "  <svg xmlns=\"http://www.w3.org/2000/svg\" height=\"24px\" viewBox=\"0 -960 960 960\">\n",
              "    <path d=\"M120-120v-720h720v720H120Zm60-500h600v-160H180v160Zm220 220h160v-160H400v160Zm0 220h160v-160H400v160ZM180-400h160v-160H180v160Zm440 0h160v-160H620v160ZM180-180h160v-160H180v160Zm440 0h160v-160H620v160Z\"/>\n",
              "  </svg>\n",
              "    </button>\n",
              "\n",
              "  <style>\n",
              "    .colab-df-container {\n",
              "      display:flex;\n",
              "      gap: 12px;\n",
              "    }\n",
              "\n",
              "    .colab-df-convert {\n",
              "      background-color: #E8F0FE;\n",
              "      border: none;\n",
              "      border-radius: 50%;\n",
              "      cursor: pointer;\n",
              "      display: none;\n",
              "      fill: #1967D2;\n",
              "      height: 32px;\n",
              "      padding: 0 0 0 0;\n",
              "      width: 32px;\n",
              "    }\n",
              "\n",
              "    .colab-df-convert:hover {\n",
              "      background-color: #E2EBFA;\n",
              "      box-shadow: 0px 1px 2px rgba(60, 64, 67, 0.3), 0px 1px 3px 1px rgba(60, 64, 67, 0.15);\n",
              "      fill: #174EA6;\n",
              "    }\n",
              "\n",
              "    .colab-df-buttons div {\n",
              "      margin-bottom: 4px;\n",
              "    }\n",
              "\n",
              "    [theme=dark] .colab-df-convert {\n",
              "      background-color: #3B4455;\n",
              "      fill: #D2E3FC;\n",
              "    }\n",
              "\n",
              "    [theme=dark] .colab-df-convert:hover {\n",
              "      background-color: #434B5C;\n",
              "      box-shadow: 0px 1px 3px 1px rgba(0, 0, 0, 0.15);\n",
              "      filter: drop-shadow(0px 1px 2px rgba(0, 0, 0, 0.3));\n",
              "      fill: #FFFFFF;\n",
              "    }\n",
              "  </style>\n",
              "\n",
              "    <script>\n",
              "      const buttonEl =\n",
              "        document.querySelector('#df-aa021e51-0dc1-446f-8dff-7954398232b9 button.colab-df-convert');\n",
              "      buttonEl.style.display =\n",
              "        google.colab.kernel.accessAllowed ? 'block' : 'none';\n",
              "\n",
              "      async function convertToInteractive(key) {\n",
              "        const element = document.querySelector('#df-aa021e51-0dc1-446f-8dff-7954398232b9');\n",
              "        const dataTable =\n",
              "          await google.colab.kernel.invokeFunction('convertToInteractive',\n",
              "                                                    [key], {});\n",
              "        if (!dataTable) return;\n",
              "\n",
              "        const docLinkHtml = 'Like what you see? Visit the ' +\n",
              "          '<a target=\"_blank\" href=https://colab.research.google.com/notebooks/data_table.ipynb>data table notebook</a>'\n",
              "          + ' to learn more about interactive tables.';\n",
              "        element.innerHTML = '';\n",
              "        dataTable['output_type'] = 'display_data';\n",
              "        await google.colab.output.renderOutput(dataTable, element);\n",
              "        const docLink = document.createElement('div');\n",
              "        docLink.innerHTML = docLinkHtml;\n",
              "        element.appendChild(docLink);\n",
              "      }\n",
              "    </script>\n",
              "  </div>\n",
              "\n",
              "\n",
              "<div id=\"df-8ce2518b-cfdc-46a4-969a-4eba9fa18afe\">\n",
              "  <button class=\"colab-df-quickchart\" onclick=\"quickchart('df-8ce2518b-cfdc-46a4-969a-4eba9fa18afe')\"\n",
              "            title=\"Suggest charts\"\n",
              "            style=\"display:none;\">\n",
              "\n",
              "<svg xmlns=\"http://www.w3.org/2000/svg\" height=\"24px\"viewBox=\"0 0 24 24\"\n",
              "     width=\"24px\">\n",
              "    <g>\n",
              "        <path d=\"M19 3H5c-1.1 0-2 .9-2 2v14c0 1.1.9 2 2 2h14c1.1 0 2-.9 2-2V5c0-1.1-.9-2-2-2zM9 17H7v-7h2v7zm4 0h-2V7h2v10zm4 0h-2v-4h2v4z\"/>\n",
              "    </g>\n",
              "</svg>\n",
              "  </button>\n",
              "\n",
              "<style>\n",
              "  .colab-df-quickchart {\n",
              "      --bg-color: #E8F0FE;\n",
              "      --fill-color: #1967D2;\n",
              "      --hover-bg-color: #E2EBFA;\n",
              "      --hover-fill-color: #174EA6;\n",
              "      --disabled-fill-color: #AAA;\n",
              "      --disabled-bg-color: #DDD;\n",
              "  }\n",
              "\n",
              "  [theme=dark] .colab-df-quickchart {\n",
              "      --bg-color: #3B4455;\n",
              "      --fill-color: #D2E3FC;\n",
              "      --hover-bg-color: #434B5C;\n",
              "      --hover-fill-color: #FFFFFF;\n",
              "      --disabled-bg-color: #3B4455;\n",
              "      --disabled-fill-color: #666;\n",
              "  }\n",
              "\n",
              "  .colab-df-quickchart {\n",
              "    background-color: var(--bg-color);\n",
              "    border: none;\n",
              "    border-radius: 50%;\n",
              "    cursor: pointer;\n",
              "    display: none;\n",
              "    fill: var(--fill-color);\n",
              "    height: 32px;\n",
              "    padding: 0;\n",
              "    width: 32px;\n",
              "  }\n",
              "\n",
              "  .colab-df-quickchart:hover {\n",
              "    background-color: var(--hover-bg-color);\n",
              "    box-shadow: 0 1px 2px rgba(60, 64, 67, 0.3), 0 1px 3px 1px rgba(60, 64, 67, 0.15);\n",
              "    fill: var(--button-hover-fill-color);\n",
              "  }\n",
              "\n",
              "  .colab-df-quickchart-complete:disabled,\n",
              "  .colab-df-quickchart-complete:disabled:hover {\n",
              "    background-color: var(--disabled-bg-color);\n",
              "    fill: var(--disabled-fill-color);\n",
              "    box-shadow: none;\n",
              "  }\n",
              "\n",
              "  .colab-df-spinner {\n",
              "    border: 2px solid var(--fill-color);\n",
              "    border-color: transparent;\n",
              "    border-bottom-color: var(--fill-color);\n",
              "    animation:\n",
              "      spin 1s steps(1) infinite;\n",
              "  }\n",
              "\n",
              "  @keyframes spin {\n",
              "    0% {\n",
              "      border-color: transparent;\n",
              "      border-bottom-color: var(--fill-color);\n",
              "      border-left-color: var(--fill-color);\n",
              "    }\n",
              "    20% {\n",
              "      border-color: transparent;\n",
              "      border-left-color: var(--fill-color);\n",
              "      border-top-color: var(--fill-color);\n",
              "    }\n",
              "    30% {\n",
              "      border-color: transparent;\n",
              "      border-left-color: var(--fill-color);\n",
              "      border-top-color: var(--fill-color);\n",
              "      border-right-color: var(--fill-color);\n",
              "    }\n",
              "    40% {\n",
              "      border-color: transparent;\n",
              "      border-right-color: var(--fill-color);\n",
              "      border-top-color: var(--fill-color);\n",
              "    }\n",
              "    60% {\n",
              "      border-color: transparent;\n",
              "      border-right-color: var(--fill-color);\n",
              "    }\n",
              "    80% {\n",
              "      border-color: transparent;\n",
              "      border-right-color: var(--fill-color);\n",
              "      border-bottom-color: var(--fill-color);\n",
              "    }\n",
              "    90% {\n",
              "      border-color: transparent;\n",
              "      border-bottom-color: var(--fill-color);\n",
              "    }\n",
              "  }\n",
              "</style>\n",
              "\n",
              "  <script>\n",
              "    async function quickchart(key) {\n",
              "      const quickchartButtonEl =\n",
              "        document.querySelector('#' + key + ' button');\n",
              "      quickchartButtonEl.disabled = true;  // To prevent multiple clicks.\n",
              "      quickchartButtonEl.classList.add('colab-df-spinner');\n",
              "      try {\n",
              "        const charts = await google.colab.kernel.invokeFunction(\n",
              "            'suggestCharts', [key], {});\n",
              "      } catch (error) {\n",
              "        console.error('Error during call to suggestCharts:', error);\n",
              "      }\n",
              "      quickchartButtonEl.classList.remove('colab-df-spinner');\n",
              "      quickchartButtonEl.classList.add('colab-df-quickchart-complete');\n",
              "    }\n",
              "    (() => {\n",
              "      let quickchartButtonEl =\n",
              "        document.querySelector('#df-8ce2518b-cfdc-46a4-969a-4eba9fa18afe button');\n",
              "      quickchartButtonEl.style.display =\n",
              "        google.colab.kernel.accessAllowed ? 'block' : 'none';\n",
              "    })();\n",
              "  </script>\n",
              "</div>\n",
              "\n",
              "    </div>\n",
              "  </div>\n"
            ],
            "application/vnd.google.colaboratory.intrinsic+json": {
              "type": "dataframe",
              "variable_name": "df",
              "summary": "{\n  \"name\": \"df\",\n  \"rows\": 56700,\n  \"fields\": [\n    {\n      \"column\": \"comment\",\n      \"properties\": {\n        \"dtype\": \"string\",\n        \"num_unique_values\": 56700,\n        \"samples\": [\n          \"\\u0627\\u06af\\u0631 \\u0645\\u0645\\u06a9\\u0646\\u0647 \\u062f\\u0631 \\u0641\\u0631\\u0645 \\u0628\\u0633\\u062a\\u0647 \\u0628\\u0646\\u062f\\u06cc \\u062a\\u062c\\u062f\\u06cc\\u062f \\u0646\\u0638\\u0631 \\u06a9\\u0646\\u06cc\\u062f\",\n          \"\\u0628\\u06cc \\u0646\\u0638\\u06cc\\u0631 \\u0628\\u0648\\u062f \\u0641\\u0648\\u0642 \\u0627\\u0644\\u0639\\u0627\\u062f\\u0647 \\u062e\\u0648\\u0634\\u0645\\u0632\\u0647 \\u0628\\u0648\\u062f \\u0647\\u0645\\u0647 \\u0686\\u06cc\\u0634 \\u0639\\u0627\\u0644\\u06cc \\u0628\\u0648\\u062f \\u0647\\u0631 \\u0686\\u06cc \\u0628\\u06af\\u0645 \\u06a9\\u0645\\u0647 \\u062e\\u062f\\u0627 \\u0628\\u0647 \\u06a9\\u0633\\u0628 \\u0648 \\u06a9\\u0627\\u0631\\u0648 \\u0631\\u0648\\u0632\\u06cc\\u062a\\u0648\\u0646 \\u0628\\u0631\\u06a9\\u062a \\u0628\\u062f\\u0647\",\n          \"\\u0645\\u0632\\u0634 \\u062e\\u0648\\u0628\\u0647 \\u062a\\u0627\\u0632\\u0647 \\u0648 \\u062e\\u0648\\u0634\\u0645\\u0632\\u0647 \\u0628\\u0648\\u062f \\u0627\\u0646\\u062f\\u0627\\u0632\\u0634\\u0645 \\u062e\\u0648\\u0628 \\u0628\\u0648\\u062f \\u062a\\u0634\\u06a9\\u0631 \\u0627\\u0632 \\u062f\\u06a9\\u0648\\u0631 \\u0631\\u0648\\u06cc \\u06a9\\u06cc\\u06a9 \\u0628\\u0631\\u0627\\u06cc \\u062a\\u0628\\u0631\\u06cc\\u06a9 \\u06cc\\u0644\\u062f\\u0627 \\u0648 \\u062d\\u0645\\u0644 \\u06a9\\u06cc\\u06a9 \\u0647\\u0645 \\u0639\\u0627\\u0644\\u06cc \\u0628\\u0648\\u062f \\u0628\\u062f\\u0648\\u0646 \\u0645\\u0634\\u06a9\\u0644 \\u0648 \\u067e\\u06cc\\u06a9 \\u0647\\u0645 \\u062e\\u06cc\\u0644\\u06cc \\u0628\\u0627 \\u0627\\u062f\\u0628 \\u0648 \\u0628\\u0627 \\u0634\\u062e\\u0635\\u06cc\\u062a \\u0628\\u0648\\u062f \\u062a\\u0634\\u06a9\\u0631 \\u0627\\u0632 \\u0647\\u0645\\u06af\\u06cc\"\n        ],\n        \"semantic_type\": \"\",\n        \"description\": \"\"\n      }\n    },\n    {\n      \"column\": \"label_id\",\n      \"properties\": {\n        \"dtype\": \"number\",\n        \"std\": 0,\n        \"min\": 0,\n        \"max\": 1,\n        \"num_unique_values\": 2,\n        \"samples\": [\n          0,\n          1\n        ],\n        \"semantic_type\": \"\",\n        \"description\": \"\"\n      }\n    }\n  ]\n}"
            }
          },
          "metadata": {},
          "execution_count": 8
        }
      ]
    },
    {
      "cell_type": "code",
      "source": [
        "df.shape"
      ],
      "metadata": {
        "id": "--ggIrvNhT1-",
        "colab": {
          "base_uri": "https://localhost:8080/"
        },
        "outputId": "26cd0ee8-272c-4bfe-b91e-dc59bd134532"
      },
      "execution_count": 9,
      "outputs": [
        {
          "output_type": "execute_result",
          "data": {
            "text/plain": [
              "(56700, 2)"
            ]
          },
          "metadata": {},
          "execution_count": 9
        }
      ]
    },
    {
      "cell_type": "code",
      "source": [
        "df['label_id'].value_counts()"
      ],
      "metadata": {
        "id": "ZixmMaAzhfHW",
        "colab": {
          "base_uri": "https://localhost:8080/",
          "height": 178
        },
        "outputId": "0a9598ff-213f-4bc3-8bfb-c24a4e17761b"
      },
      "execution_count": 10,
      "outputs": [
        {
          "output_type": "execute_result",
          "data": {
            "text/plain": [
              "label_id\n",
              "1    28350\n",
              "0    28350\n",
              "Name: count, dtype: int64"
            ],
            "text/html": [
              "<div>\n",
              "<style scoped>\n",
              "    .dataframe tbody tr th:only-of-type {\n",
              "        vertical-align: middle;\n",
              "    }\n",
              "\n",
              "    .dataframe tbody tr th {\n",
              "        vertical-align: top;\n",
              "    }\n",
              "\n",
              "    .dataframe thead th {\n",
              "        text-align: right;\n",
              "    }\n",
              "</style>\n",
              "<table border=\"1\" class=\"dataframe\">\n",
              "  <thead>\n",
              "    <tr style=\"text-align: right;\">\n",
              "      <th></th>\n",
              "      <th>count</th>\n",
              "    </tr>\n",
              "    <tr>\n",
              "      <th>label_id</th>\n",
              "      <th></th>\n",
              "    </tr>\n",
              "  </thead>\n",
              "  <tbody>\n",
              "    <tr>\n",
              "      <th>1</th>\n",
              "      <td>28350</td>\n",
              "    </tr>\n",
              "    <tr>\n",
              "      <th>0</th>\n",
              "      <td>28350</td>\n",
              "    </tr>\n",
              "  </tbody>\n",
              "</table>\n",
              "</div><br><label><b>dtype:</b> int64</label>"
            ]
          },
          "metadata": {},
          "execution_count": 10
        }
      ]
    },
    {
      "cell_type": "code",
      "source": [
        "normalizer1 = Normalizer(\n",
        "    full_cleaning=False,\n",
        "    unify_chars=False,\n",
        "    refine_punc_spacing=False,\n",
        "    remove_extra_space=False,\n",
        "    remove_puncs=False,\n",
        "    remove_html=False,\n",
        "    remove_stop_word=True,\n",
        "    replace_email_with=\"<EMAIL>\",\n",
        "    replace_number_with=None,\n",
        "    replace_url_with=\"\",\n",
        "    replace_mobile_number_with=None,\n",
        "    replace_emoji_with='',\n",
        "    replace_home_number_with=None\n",
        ")"
      ],
      "metadata": {
        "id": "9W4uszM3Bzws"
      },
      "execution_count": 11,
      "outputs": []
    },
    {
      "cell_type": "code",
      "source": [
        "normalizer2 = NOrmalizer()"
      ],
      "metadata": {
        "id": "W00Cf2VIGgyd"
      },
      "execution_count": 12,
      "outputs": []
    },
    {
      "cell_type": "code",
      "source": [
        "lemmatizer = Lemmatizer()"
      ],
      "metadata": {
        "id": "J0NBw3HqHI09"
      },
      "execution_count": 13,
      "outputs": []
    },
    {
      "cell_type": "code",
      "source": [
        "def preprocess(text):\n",
        "  # normalizing with dadmatools\n",
        "  text = normalizer1.normalize(text)\n",
        "\n",
        "  # normalizing with hazm\n",
        "  text = normalizer2.correct_spacing(text)\n",
        "  text = normalizer2.remove_diacritics(text)\n",
        "  text = normalizer2.remove_specials_chars(text)\n",
        "  text = normalizer2.decrease_repeated_chars(text)\n",
        "  text = normalizer2.unicodes_replacement(text)\n",
        "  text = lemmatizer.lemmatize(text)\n",
        "\n",
        "  # url remove\n",
        "  text = re.sub(r'http\\S +|https\\S +|www\\S', '', text)\n",
        "\n",
        "\n",
        "\n",
        "\n",
        "  return text"
      ],
      "metadata": {
        "id": "wzIa93gVE4MI"
      },
      "execution_count": 14,
      "outputs": []
    },
    {
      "cell_type": "code",
      "source": [
        "%%time\n",
        "preprocess(df['comment'][100])"
      ],
      "metadata": {
        "id": "RJK3aPyTHZSi",
        "colab": {
          "base_uri": "https://localhost:8080/",
          "height": 70
        },
        "outputId": "444610e4-87aa-428a-840a-637ee2ab5856"
      },
      "execution_count": 15,
      "outputs": [
        {
          "output_type": "stream",
          "name": "stdout",
          "text": [
            "CPU times: user 8.49 ms, sys: 47 µs, total: 8.54 ms\n",
            "Wall time: 10.9 ms\n"
          ]
        },
        {
          "output_type": "execute_result",
          "data": {
            "text/plain": [
              "'نان خمیر بود!!!!!'"
            ],
            "application/vnd.google.colaboratory.intrinsic+json": {
              "type": "string"
            }
          },
          "metadata": {},
          "execution_count": 15
        }
      ]
    },
    {
      "cell_type": "code",
      "source": [
        "df['comment'][10]"
      ],
      "metadata": {
        "id": "5P6vt1SQC0BY",
        "colab": {
          "base_uri": "https://localhost:8080/",
          "height": 36
        },
        "outputId": "caf638a8-962e-4db6-f13d-a3bbfaa49bbc"
      },
      "execution_count": 16,
      "outputs": [
        {
          "output_type": "execute_result",
          "data": {
            "text/plain": [
              "'اکلر فوق العاده بود اما بافت چیزکیک مونده بود و دوست نداشتم.'"
            ],
            "application/vnd.google.colaboratory.intrinsic+json": {
              "type": "string"
            }
          },
          "metadata": {},
          "execution_count": 16
        }
      ]
    },
    {
      "cell_type": "code",
      "source": [
        "df['preprocessed_comment'] = df['comment'].apply(preprocess)"
      ],
      "metadata": {
        "id": "9-W8aL0pKEvf"
      },
      "execution_count": 17,
      "outputs": []
    },
    {
      "cell_type": "code",
      "source": [
        "df.head()"
      ],
      "metadata": {
        "id": "piz1MNSWBQJW",
        "colab": {
          "base_uri": "https://localhost:8080/",
          "height": 206
        },
        "outputId": "43d3ffab-2c03-442c-a2e1-e894e8a6f00d"
      },
      "execution_count": 18,
      "outputs": [
        {
          "output_type": "execute_result",
          "data": {
            "text/plain": [
              "                                             comment  label_id  \\\n",
              "0    واقعا حیف وقت که بنویسم سرویس دهیتون شده افتضاح         1   \n",
              "1  قرار بود ۱ ساعته برسه ولی نیم ساعت زودتر از مو...         0   \n",
              "2  قیمت این مدل اصلا با کیفیتش سازگاری نداره، فقط...         1   \n",
              "3  عالللی بود همه چه درست و به اندازه و کیفیت خوب...         0   \n",
              "4                      شیرینی وانیلی فقط یک مدل بود.         0   \n",
              "\n",
              "                                preprocessed_comment  \n",
              "0                 حیف وقت بنویسم سرویس دهیتون افتضاح  \n",
              "1  ساعته برسه نیم ساعت موقع رسید، ببین چقدر پلاک ...  \n",
              "2  قیمت مدل کیفیتش سازگاری نداره، ظاهر فریبنده دا...  \n",
              "3  عالی اندازه کیفیت خوب، امیداورم کیفیتتون باشه ...  \n",
              "4                             شیرینی وانیلی مدل بود.  "
            ],
            "text/html": [
              "\n",
              "  <div id=\"df-313943ed-5656-42fe-b5db-0cf276070e21\" class=\"colab-df-container\">\n",
              "    <div>\n",
              "<style scoped>\n",
              "    .dataframe tbody tr th:only-of-type {\n",
              "        vertical-align: middle;\n",
              "    }\n",
              "\n",
              "    .dataframe tbody tr th {\n",
              "        vertical-align: top;\n",
              "    }\n",
              "\n",
              "    .dataframe thead th {\n",
              "        text-align: right;\n",
              "    }\n",
              "</style>\n",
              "<table border=\"1\" class=\"dataframe\">\n",
              "  <thead>\n",
              "    <tr style=\"text-align: right;\">\n",
              "      <th></th>\n",
              "      <th>comment</th>\n",
              "      <th>label_id</th>\n",
              "      <th>preprocessed_comment</th>\n",
              "    </tr>\n",
              "  </thead>\n",
              "  <tbody>\n",
              "    <tr>\n",
              "      <th>0</th>\n",
              "      <td>واقعا حیف وقت که بنویسم سرویس دهیتون شده افتضاح</td>\n",
              "      <td>1</td>\n",
              "      <td>حیف وقت بنویسم سرویس دهیتون افتضاح</td>\n",
              "    </tr>\n",
              "    <tr>\n",
              "      <th>1</th>\n",
              "      <td>قرار بود ۱ ساعته برسه ولی نیم ساعت زودتر از مو...</td>\n",
              "      <td>0</td>\n",
              "      <td>ساعته برسه نیم ساعت موقع رسید، ببین چقدر پلاک ...</td>\n",
              "    </tr>\n",
              "    <tr>\n",
              "      <th>2</th>\n",
              "      <td>قیمت این مدل اصلا با کیفیتش سازگاری نداره، فقط...</td>\n",
              "      <td>1</td>\n",
              "      <td>قیمت مدل کیفیتش سازگاری نداره، ظاهر فریبنده دا...</td>\n",
              "    </tr>\n",
              "    <tr>\n",
              "      <th>3</th>\n",
              "      <td>عالللی بود همه چه درست و به اندازه و کیفیت خوب...</td>\n",
              "      <td>0</td>\n",
              "      <td>عالی اندازه کیفیت خوب، امیداورم کیفیتتون باشه ...</td>\n",
              "    </tr>\n",
              "    <tr>\n",
              "      <th>4</th>\n",
              "      <td>شیرینی وانیلی فقط یک مدل بود.</td>\n",
              "      <td>0</td>\n",
              "      <td>شیرینی وانیلی مدل بود.</td>\n",
              "    </tr>\n",
              "  </tbody>\n",
              "</table>\n",
              "</div>\n",
              "    <div class=\"colab-df-buttons\">\n",
              "\n",
              "  <div class=\"colab-df-container\">\n",
              "    <button class=\"colab-df-convert\" onclick=\"convertToInteractive('df-313943ed-5656-42fe-b5db-0cf276070e21')\"\n",
              "            title=\"Convert this dataframe to an interactive table.\"\n",
              "            style=\"display:none;\">\n",
              "\n",
              "  <svg xmlns=\"http://www.w3.org/2000/svg\" height=\"24px\" viewBox=\"0 -960 960 960\">\n",
              "    <path d=\"M120-120v-720h720v720H120Zm60-500h600v-160H180v160Zm220 220h160v-160H400v160Zm0 220h160v-160H400v160ZM180-400h160v-160H180v160Zm440 0h160v-160H620v160ZM180-180h160v-160H180v160Zm440 0h160v-160H620v160Z\"/>\n",
              "  </svg>\n",
              "    </button>\n",
              "\n",
              "  <style>\n",
              "    .colab-df-container {\n",
              "      display:flex;\n",
              "      gap: 12px;\n",
              "    }\n",
              "\n",
              "    .colab-df-convert {\n",
              "      background-color: #E8F0FE;\n",
              "      border: none;\n",
              "      border-radius: 50%;\n",
              "      cursor: pointer;\n",
              "      display: none;\n",
              "      fill: #1967D2;\n",
              "      height: 32px;\n",
              "      padding: 0 0 0 0;\n",
              "      width: 32px;\n",
              "    }\n",
              "\n",
              "    .colab-df-convert:hover {\n",
              "      background-color: #E2EBFA;\n",
              "      box-shadow: 0px 1px 2px rgba(60, 64, 67, 0.3), 0px 1px 3px 1px rgba(60, 64, 67, 0.15);\n",
              "      fill: #174EA6;\n",
              "    }\n",
              "\n",
              "    .colab-df-buttons div {\n",
              "      margin-bottom: 4px;\n",
              "    }\n",
              "\n",
              "    [theme=dark] .colab-df-convert {\n",
              "      background-color: #3B4455;\n",
              "      fill: #D2E3FC;\n",
              "    }\n",
              "\n",
              "    [theme=dark] .colab-df-convert:hover {\n",
              "      background-color: #434B5C;\n",
              "      box-shadow: 0px 1px 3px 1px rgba(0, 0, 0, 0.15);\n",
              "      filter: drop-shadow(0px 1px 2px rgba(0, 0, 0, 0.3));\n",
              "      fill: #FFFFFF;\n",
              "    }\n",
              "  </style>\n",
              "\n",
              "    <script>\n",
              "      const buttonEl =\n",
              "        document.querySelector('#df-313943ed-5656-42fe-b5db-0cf276070e21 button.colab-df-convert');\n",
              "      buttonEl.style.display =\n",
              "        google.colab.kernel.accessAllowed ? 'block' : 'none';\n",
              "\n",
              "      async function convertToInteractive(key) {\n",
              "        const element = document.querySelector('#df-313943ed-5656-42fe-b5db-0cf276070e21');\n",
              "        const dataTable =\n",
              "          await google.colab.kernel.invokeFunction('convertToInteractive',\n",
              "                                                    [key], {});\n",
              "        if (!dataTable) return;\n",
              "\n",
              "        const docLinkHtml = 'Like what you see? Visit the ' +\n",
              "          '<a target=\"_blank\" href=https://colab.research.google.com/notebooks/data_table.ipynb>data table notebook</a>'\n",
              "          + ' to learn more about interactive tables.';\n",
              "        element.innerHTML = '';\n",
              "        dataTable['output_type'] = 'display_data';\n",
              "        await google.colab.output.renderOutput(dataTable, element);\n",
              "        const docLink = document.createElement('div');\n",
              "        docLink.innerHTML = docLinkHtml;\n",
              "        element.appendChild(docLink);\n",
              "      }\n",
              "    </script>\n",
              "  </div>\n",
              "\n",
              "\n",
              "<div id=\"df-9c3abaa4-3e59-470c-bc3b-0fc539f873ec\">\n",
              "  <button class=\"colab-df-quickchart\" onclick=\"quickchart('df-9c3abaa4-3e59-470c-bc3b-0fc539f873ec')\"\n",
              "            title=\"Suggest charts\"\n",
              "            style=\"display:none;\">\n",
              "\n",
              "<svg xmlns=\"http://www.w3.org/2000/svg\" height=\"24px\"viewBox=\"0 0 24 24\"\n",
              "     width=\"24px\">\n",
              "    <g>\n",
              "        <path d=\"M19 3H5c-1.1 0-2 .9-2 2v14c0 1.1.9 2 2 2h14c1.1 0 2-.9 2-2V5c0-1.1-.9-2-2-2zM9 17H7v-7h2v7zm4 0h-2V7h2v10zm4 0h-2v-4h2v4z\"/>\n",
              "    </g>\n",
              "</svg>\n",
              "  </button>\n",
              "\n",
              "<style>\n",
              "  .colab-df-quickchart {\n",
              "      --bg-color: #E8F0FE;\n",
              "      --fill-color: #1967D2;\n",
              "      --hover-bg-color: #E2EBFA;\n",
              "      --hover-fill-color: #174EA6;\n",
              "      --disabled-fill-color: #AAA;\n",
              "      --disabled-bg-color: #DDD;\n",
              "  }\n",
              "\n",
              "  [theme=dark] .colab-df-quickchart {\n",
              "      --bg-color: #3B4455;\n",
              "      --fill-color: #D2E3FC;\n",
              "      --hover-bg-color: #434B5C;\n",
              "      --hover-fill-color: #FFFFFF;\n",
              "      --disabled-bg-color: #3B4455;\n",
              "      --disabled-fill-color: #666;\n",
              "  }\n",
              "\n",
              "  .colab-df-quickchart {\n",
              "    background-color: var(--bg-color);\n",
              "    border: none;\n",
              "    border-radius: 50%;\n",
              "    cursor: pointer;\n",
              "    display: none;\n",
              "    fill: var(--fill-color);\n",
              "    height: 32px;\n",
              "    padding: 0;\n",
              "    width: 32px;\n",
              "  }\n",
              "\n",
              "  .colab-df-quickchart:hover {\n",
              "    background-color: var(--hover-bg-color);\n",
              "    box-shadow: 0 1px 2px rgba(60, 64, 67, 0.3), 0 1px 3px 1px rgba(60, 64, 67, 0.15);\n",
              "    fill: var(--button-hover-fill-color);\n",
              "  }\n",
              "\n",
              "  .colab-df-quickchart-complete:disabled,\n",
              "  .colab-df-quickchart-complete:disabled:hover {\n",
              "    background-color: var(--disabled-bg-color);\n",
              "    fill: var(--disabled-fill-color);\n",
              "    box-shadow: none;\n",
              "  }\n",
              "\n",
              "  .colab-df-spinner {\n",
              "    border: 2px solid var(--fill-color);\n",
              "    border-color: transparent;\n",
              "    border-bottom-color: var(--fill-color);\n",
              "    animation:\n",
              "      spin 1s steps(1) infinite;\n",
              "  }\n",
              "\n",
              "  @keyframes spin {\n",
              "    0% {\n",
              "      border-color: transparent;\n",
              "      border-bottom-color: var(--fill-color);\n",
              "      border-left-color: var(--fill-color);\n",
              "    }\n",
              "    20% {\n",
              "      border-color: transparent;\n",
              "      border-left-color: var(--fill-color);\n",
              "      border-top-color: var(--fill-color);\n",
              "    }\n",
              "    30% {\n",
              "      border-color: transparent;\n",
              "      border-left-color: var(--fill-color);\n",
              "      border-top-color: var(--fill-color);\n",
              "      border-right-color: var(--fill-color);\n",
              "    }\n",
              "    40% {\n",
              "      border-color: transparent;\n",
              "      border-right-color: var(--fill-color);\n",
              "      border-top-color: var(--fill-color);\n",
              "    }\n",
              "    60% {\n",
              "      border-color: transparent;\n",
              "      border-right-color: var(--fill-color);\n",
              "    }\n",
              "    80% {\n",
              "      border-color: transparent;\n",
              "      border-right-color: var(--fill-color);\n",
              "      border-bottom-color: var(--fill-color);\n",
              "    }\n",
              "    90% {\n",
              "      border-color: transparent;\n",
              "      border-bottom-color: var(--fill-color);\n",
              "    }\n",
              "  }\n",
              "</style>\n",
              "\n",
              "  <script>\n",
              "    async function quickchart(key) {\n",
              "      const quickchartButtonEl =\n",
              "        document.querySelector('#' + key + ' button');\n",
              "      quickchartButtonEl.disabled = true;  // To prevent multiple clicks.\n",
              "      quickchartButtonEl.classList.add('colab-df-spinner');\n",
              "      try {\n",
              "        const charts = await google.colab.kernel.invokeFunction(\n",
              "            'suggestCharts', [key], {});\n",
              "      } catch (error) {\n",
              "        console.error('Error during call to suggestCharts:', error);\n",
              "      }\n",
              "      quickchartButtonEl.classList.remove('colab-df-spinner');\n",
              "      quickchartButtonEl.classList.add('colab-df-quickchart-complete');\n",
              "    }\n",
              "    (() => {\n",
              "      let quickchartButtonEl =\n",
              "        document.querySelector('#df-9c3abaa4-3e59-470c-bc3b-0fc539f873ec button');\n",
              "      quickchartButtonEl.style.display =\n",
              "        google.colab.kernel.accessAllowed ? 'block' : 'none';\n",
              "    })();\n",
              "  </script>\n",
              "</div>\n",
              "\n",
              "    </div>\n",
              "  </div>\n"
            ],
            "application/vnd.google.colaboratory.intrinsic+json": {
              "type": "dataframe",
              "variable_name": "df",
              "summary": "{\n  \"name\": \"df\",\n  \"rows\": 56700,\n  \"fields\": [\n    {\n      \"column\": \"comment\",\n      \"properties\": {\n        \"dtype\": \"string\",\n        \"num_unique_values\": 56700,\n        \"samples\": [\n          \"\\u0627\\u06af\\u0631 \\u0645\\u0645\\u06a9\\u0646\\u0647 \\u062f\\u0631 \\u0641\\u0631\\u0645 \\u0628\\u0633\\u062a\\u0647 \\u0628\\u0646\\u062f\\u06cc \\u062a\\u062c\\u062f\\u06cc\\u062f \\u0646\\u0638\\u0631 \\u06a9\\u0646\\u06cc\\u062f\",\n          \"\\u0628\\u06cc \\u0646\\u0638\\u06cc\\u0631 \\u0628\\u0648\\u062f \\u0641\\u0648\\u0642 \\u0627\\u0644\\u0639\\u0627\\u062f\\u0647 \\u062e\\u0648\\u0634\\u0645\\u0632\\u0647 \\u0628\\u0648\\u062f \\u0647\\u0645\\u0647 \\u0686\\u06cc\\u0634 \\u0639\\u0627\\u0644\\u06cc \\u0628\\u0648\\u062f \\u0647\\u0631 \\u0686\\u06cc \\u0628\\u06af\\u0645 \\u06a9\\u0645\\u0647 \\u062e\\u062f\\u0627 \\u0628\\u0647 \\u06a9\\u0633\\u0628 \\u0648 \\u06a9\\u0627\\u0631\\u0648 \\u0631\\u0648\\u0632\\u06cc\\u062a\\u0648\\u0646 \\u0628\\u0631\\u06a9\\u062a \\u0628\\u062f\\u0647\",\n          \"\\u0645\\u0632\\u0634 \\u062e\\u0648\\u0628\\u0647 \\u062a\\u0627\\u0632\\u0647 \\u0648 \\u062e\\u0648\\u0634\\u0645\\u0632\\u0647 \\u0628\\u0648\\u062f \\u0627\\u0646\\u062f\\u0627\\u0632\\u0634\\u0645 \\u062e\\u0648\\u0628 \\u0628\\u0648\\u062f \\u062a\\u0634\\u06a9\\u0631 \\u0627\\u0632 \\u062f\\u06a9\\u0648\\u0631 \\u0631\\u0648\\u06cc \\u06a9\\u06cc\\u06a9 \\u0628\\u0631\\u0627\\u06cc \\u062a\\u0628\\u0631\\u06cc\\u06a9 \\u06cc\\u0644\\u062f\\u0627 \\u0648 \\u062d\\u0645\\u0644 \\u06a9\\u06cc\\u06a9 \\u0647\\u0645 \\u0639\\u0627\\u0644\\u06cc \\u0628\\u0648\\u062f \\u0628\\u062f\\u0648\\u0646 \\u0645\\u0634\\u06a9\\u0644 \\u0648 \\u067e\\u06cc\\u06a9 \\u0647\\u0645 \\u062e\\u06cc\\u0644\\u06cc \\u0628\\u0627 \\u0627\\u062f\\u0628 \\u0648 \\u0628\\u0627 \\u0634\\u062e\\u0635\\u06cc\\u062a \\u0628\\u0648\\u062f \\u062a\\u0634\\u06a9\\u0631 \\u0627\\u0632 \\u0647\\u0645\\u06af\\u06cc\"\n        ],\n        \"semantic_type\": \"\",\n        \"description\": \"\"\n      }\n    },\n    {\n      \"column\": \"label_id\",\n      \"properties\": {\n        \"dtype\": \"number\",\n        \"std\": 0,\n        \"min\": 0,\n        \"max\": 1,\n        \"num_unique_values\": 2,\n        \"samples\": [\n          0,\n          1\n        ],\n        \"semantic_type\": \"\",\n        \"description\": \"\"\n      }\n    },\n    {\n      \"column\": \"preprocessed_comment\",\n      \"properties\": {\n        \"dtype\": \"string\",\n        \"num_unique_values\": 54281,\n        \"samples\": [\n          \"\\u0646\\u0628\\u0648\\u062f! \\u0633\\u06cc\\u0628 \\u0632\\u0645\\u06cc\\u0646\\u06cc\\u200c\\u0647\\u0627\\u06cc \\u0633\\u0631\\u062f \\u0628\\u0648\\u06cc \\u0631\\u0648\\u063a\\u0646 \\u0645\\u0648\\u0646\\u062f\\u0647! \\u063a\\u0630\\u0627\\u06cc\\u06cc \\u0646\\u0645\\u06cc\\u062e\\u0648\\u0631\\u062f\\u0645 \\u06a9\\u06cc\\u0641\\u06cc\\u062a \\u063a\\u0630\\u0627\\u0647\\u0627\\u062a\\u0648\\u0646 \\u0627\\u0641\\u062a \\u0627\\u062e\\u0631\\u06cc \\u0628\\u0647\\u062a\\u0648\\u0646 \\u0633\\u0641\\u0627\\u0631\\u0634 \\u062f\\u0627\\u062f\\u0645.\",\n          \"\\u062e\\u0648\\u0628\\u060c \\u0628\\u0631\\u062e\\u0648\\u0631\\u062f \\u067e\\u06cc\\u06a9 \\u0639\\u0627\\u0644\\u06cc\\u060c \\u0645\\u0645\\u0646\\u0648\\u0646\\u0645\"\n        ],\n        \"semantic_type\": \"\",\n        \"description\": \"\"\n      }\n    }\n  ]\n}"
            }
          },
          "metadata": {},
          "execution_count": 18
        }
      ]
    },
    {
      "cell_type": "markdown",
      "source": [
        "## Train"
      ],
      "metadata": {
        "id": "KgERWNzCKPFh"
      }
    },
    {
      "cell_type": "code",
      "source": [
        "X = df['preprocessed_comment']\n",
        "y = df['label_id']\n",
        "X_train, X_test, y_train, y_test = train_test_split(X, y, test_size=0.2, random_state=42)"
      ],
      "metadata": {
        "id": "Ue9QsvgwKQQ0"
      },
      "execution_count": 19,
      "outputs": []
    },
    {
      "cell_type": "code",
      "source": [
        "CV = CountVectorizer()\n",
        "X_train_vec = CV.fit_transform(X_train)\n",
        "X_test_vec = CV.transform(X_test)"
      ],
      "metadata": {
        "id": "-hZ_qwRSKiLd"
      },
      "execution_count": 20,
      "outputs": []
    },
    {
      "cell_type": "code",
      "source": [
        "model_LR=LogisticRegression()\n",
        "model_LR.fit(X_train_vec,y_train)"
      ],
      "metadata": {
        "id": "gUFWFcQ4KoTv",
        "colab": {
          "base_uri": "https://localhost:8080/",
          "height": 213
        },
        "outputId": "ffe8925c-bc14-4751-d36d-f6cb89da4993"
      },
      "execution_count": 21,
      "outputs": [
        {
          "output_type": "stream",
          "name": "stderr",
          "text": [
            "/usr/local/lib/python3.10/dist-packages/sklearn/linear_model/_logistic.py:460: ConvergenceWarning: lbfgs failed to converge (status=1):\n",
            "STOP: TOTAL NO. of ITERATIONS REACHED LIMIT.\n",
            "\n",
            "Increase the number of iterations (max_iter) or scale the data as shown in:\n",
            "    https://scikit-learn.org/stable/modules/preprocessing.html\n",
            "Please also refer to the documentation for alternative solver options:\n",
            "    https://scikit-learn.org/stable/modules/linear_model.html#logistic-regression\n",
            "  n_iter_i = _check_optimize_result(\n"
          ]
        },
        {
          "output_type": "execute_result",
          "data": {
            "text/plain": [
              "LogisticRegression()"
            ],
            "text/html": [
              "<style>#sk-container-id-1 {color: black;}#sk-container-id-1 pre{padding: 0;}#sk-container-id-1 div.sk-toggleable {background-color: white;}#sk-container-id-1 label.sk-toggleable__label {cursor: pointer;display: block;width: 100%;margin-bottom: 0;padding: 0.3em;box-sizing: border-box;text-align: center;}#sk-container-id-1 label.sk-toggleable__label-arrow:before {content: \"▸\";float: left;margin-right: 0.25em;color: #696969;}#sk-container-id-1 label.sk-toggleable__label-arrow:hover:before {color: black;}#sk-container-id-1 div.sk-estimator:hover label.sk-toggleable__label-arrow:before {color: black;}#sk-container-id-1 div.sk-toggleable__content {max-height: 0;max-width: 0;overflow: hidden;text-align: left;background-color: #f0f8ff;}#sk-container-id-1 div.sk-toggleable__content pre {margin: 0.2em;color: black;border-radius: 0.25em;background-color: #f0f8ff;}#sk-container-id-1 input.sk-toggleable__control:checked~div.sk-toggleable__content {max-height: 200px;max-width: 100%;overflow: auto;}#sk-container-id-1 input.sk-toggleable__control:checked~label.sk-toggleable__label-arrow:before {content: \"▾\";}#sk-container-id-1 div.sk-estimator input.sk-toggleable__control:checked~label.sk-toggleable__label {background-color: #d4ebff;}#sk-container-id-1 div.sk-label input.sk-toggleable__control:checked~label.sk-toggleable__label {background-color: #d4ebff;}#sk-container-id-1 input.sk-hidden--visually {border: 0;clip: rect(1px 1px 1px 1px);clip: rect(1px, 1px, 1px, 1px);height: 1px;margin: -1px;overflow: hidden;padding: 0;position: absolute;width: 1px;}#sk-container-id-1 div.sk-estimator {font-family: monospace;background-color: #f0f8ff;border: 1px dotted black;border-radius: 0.25em;box-sizing: border-box;margin-bottom: 0.5em;}#sk-container-id-1 div.sk-estimator:hover {background-color: #d4ebff;}#sk-container-id-1 div.sk-parallel-item::after {content: \"\";width: 100%;border-bottom: 1px solid gray;flex-grow: 1;}#sk-container-id-1 div.sk-label:hover label.sk-toggleable__label {background-color: #d4ebff;}#sk-container-id-1 div.sk-serial::before {content: \"\";position: absolute;border-left: 1px solid gray;box-sizing: border-box;top: 0;bottom: 0;left: 50%;z-index: 0;}#sk-container-id-1 div.sk-serial {display: flex;flex-direction: column;align-items: center;background-color: white;padding-right: 0.2em;padding-left: 0.2em;position: relative;}#sk-container-id-1 div.sk-item {position: relative;z-index: 1;}#sk-container-id-1 div.sk-parallel {display: flex;align-items: stretch;justify-content: center;background-color: white;position: relative;}#sk-container-id-1 div.sk-item::before, #sk-container-id-1 div.sk-parallel-item::before {content: \"\";position: absolute;border-left: 1px solid gray;box-sizing: border-box;top: 0;bottom: 0;left: 50%;z-index: -1;}#sk-container-id-1 div.sk-parallel-item {display: flex;flex-direction: column;z-index: 1;position: relative;background-color: white;}#sk-container-id-1 div.sk-parallel-item:first-child::after {align-self: flex-end;width: 50%;}#sk-container-id-1 div.sk-parallel-item:last-child::after {align-self: flex-start;width: 50%;}#sk-container-id-1 div.sk-parallel-item:only-child::after {width: 0;}#sk-container-id-1 div.sk-dashed-wrapped {border: 1px dashed gray;margin: 0 0.4em 0.5em 0.4em;box-sizing: border-box;padding-bottom: 0.4em;background-color: white;}#sk-container-id-1 div.sk-label label {font-family: monospace;font-weight: bold;display: inline-block;line-height: 1.2em;}#sk-container-id-1 div.sk-label-container {text-align: center;}#sk-container-id-1 div.sk-container {/* jupyter's `normalize.less` sets `[hidden] { display: none; }` but bootstrap.min.css set `[hidden] { display: none !important; }` so we also need the `!important` here to be able to override the default hidden behavior on the sphinx rendered scikit-learn.org. See: https://github.com/scikit-learn/scikit-learn/issues/21755 */display: inline-block !important;position: relative;}#sk-container-id-1 div.sk-text-repr-fallback {display: none;}</style><div id=\"sk-container-id-1\" class=\"sk-top-container\"><div class=\"sk-text-repr-fallback\"><pre>LogisticRegression()</pre><b>In a Jupyter environment, please rerun this cell to show the HTML representation or trust the notebook. <br />On GitHub, the HTML representation is unable to render, please try loading this page with nbviewer.org.</b></div><div class=\"sk-container\" hidden><div class=\"sk-item\"><div class=\"sk-estimator sk-toggleable\"><input class=\"sk-toggleable__control sk-hidden--visually\" id=\"sk-estimator-id-1\" type=\"checkbox\" checked><label for=\"sk-estimator-id-1\" class=\"sk-toggleable__label sk-toggleable__label-arrow\">LogisticRegression</label><div class=\"sk-toggleable__content\"><pre>LogisticRegression()</pre></div></div></div></div></div>"
            ]
          },
          "metadata": {},
          "execution_count": 21
        }
      ]
    },
    {
      "cell_type": "code",
      "source": [
        "y_pred_LR = model_LR.predict(X_test_vec)\n",
        "accuracy_score(y_test, y_pred_LR)"
      ],
      "metadata": {
        "id": "IOwZOtE9KqgU",
        "colab": {
          "base_uri": "https://localhost:8080/"
        },
        "outputId": "a643dd9c-fc58-42e7-a651-6f75c7e79b78"
      },
      "execution_count": 22,
      "outputs": [
        {
          "output_type": "execute_result",
          "data": {
            "text/plain": [
              "0.8117283950617284"
            ]
          },
          "metadata": {},
          "execution_count": 22
        }
      ]
    },
    {
      "cell_type": "code",
      "source": [
        "print(classification_report(y_test, y_pred_LR))"
      ],
      "metadata": {
        "id": "RVv5gSr3Ks30",
        "colab": {
          "base_uri": "https://localhost:8080/"
        },
        "outputId": "bf63fe11-df16-455d-a952-78ba8a454e5d"
      },
      "execution_count": 23,
      "outputs": [
        {
          "output_type": "stream",
          "name": "stdout",
          "text": [
            "              precision    recall  f1-score   support\n",
            "\n",
            "           0       0.82      0.79      0.81      5613\n",
            "           1       0.80      0.83      0.82      5727\n",
            "\n",
            "    accuracy                           0.81     11340\n",
            "   macro avg       0.81      0.81      0.81     11340\n",
            "weighted avg       0.81      0.81      0.81     11340\n",
            "\n"
          ]
        }
      ]
    },
    {
      "cell_type": "code",
      "source": [
        "print(confusion_matrix(y_test, y_pred_LR))"
      ],
      "metadata": {
        "id": "DAJTfdHdKwcR",
        "colab": {
          "base_uri": "https://localhost:8080/"
        },
        "outputId": "a31b9ee2-6bef-4f7c-d326-239455dc883a"
      },
      "execution_count": 24,
      "outputs": [
        {
          "output_type": "stream",
          "name": "stdout",
          "text": [
            "[[4441 1172]\n",
            " [ 963 4764]]\n"
          ]
        }
      ]
    }
  ]
}